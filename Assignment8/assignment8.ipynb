{
 "cells": [
  {
   "cell_type": "code",
   "execution_count": 1,
   "id": "acfb7f16",
   "metadata": {},
   "outputs": [
    {
     "name": "stdout",
     "output_type": "stream",
     "text": [
      "Chappaquidick, I_Feel_Pretty, Fast_&_Furious:_Hobbs_&_Shaw, Magic_Mike, Bridemaids, The_Last_Airbender, World_War_Z, Fifty_Shades_of_Grey, Star_Wars:_The_Force_Awakens, The_Hateful_Eight, Terminator:_Dark_Fate, Drive, Pitch_Perfect, Phantom_Thread, Pokemon_Detective_Pikachu, Prometheus, Fast_Five, Good_Boys, The_Farewell, American_Hustle, The_Girl_with_the_Dragon_Tattoo, Avengers:_Age_of_Ultron, The_Shape_of_Water, The_Revenant, Thor, The_Help, Man_of_Steel, The_Perks_of_Being_a_Wallflower, Hidden_Figures, Frozen, Jurassic_World, Three_Billboards_Outside_Ebbing, Mad_Max:_Fury_Road, Captain_America:_The_First_Avenger, Dunkirk, Manchester_by_the_Sea, Ex_Machina, Rocketman, Ready_Player_One, Once_Upon_a_Time_in_Hollywood, 21_Jump_Street, Black_Swan, Iron_Man_2, Hustlers, Darkest_Hour, The_Hunger_Games, X-Men:_First_Class, Gone_Girl, Us, Avengers:_Endgame, La_La_Land, Avengers:_Infinity_War, Spiderman:_Far_From_Home, Midnight_in_Paris, Now_You_See_Me, 12_Years_a_Slave, Django_Unchained, Room, The_Avengers, Toy_Story_3, Joker, Her, Les_Miserables, The_Great_Gatsby, Wolf_of_Wall_Street, The_Martian, Parasite, The_Theory_of_Everything, Shutter_Island, Harry_Potter_and_the_Deathly_Hallows:_Part_1, The_Lion_King, Interstellar, Harry_Potter_and_the_Deathly_Hallows:_Part_2, The_Social_Network, The_Dark_Knight_Rises, Inception\n"
     ]
    }
   ],
   "source": [
    "import numpy as np\n",
    "\n",
    "movies = open('hw8_movies.txt').read().splitlines()\n",
    "student_ids = open('hw8_ids.txt').read().splitlines()\n",
    "ratings_string = np.loadtxt('hw8_ratings.txt', dtype='str')\n",
    "\n",
    "ratings = np.zeros(ratings_string.shape)\n",
    "\n",
    "for i in range(ratings.shape[0]):\n",
    "    for j in range(ratings.shape[1]):\n",
    "        if ratings_string[i][j] == '?':\n",
    "            ratings[i][j] = -1.0\n",
    "        else:\n",
    "            ratings[i][j] = float(ratings_string[i][j])\n",
    "\n",
    "ratings = ratings.T\n",
    "liked = ratings == 1\n",
    "disliked = ratings == 0\n",
    "unwatched = ratings == -1\n",
    "\n",
    "# Part a.\n",
    "sanity_check = np.sum(liked, axis = 1) / np.sum(liked + disliked, axis = 1)\n",
    "\n",
    "popularity = []\n",
    "for popular, movie in zip(sanity_check, movies):\n",
    "    popularity.append((np.round(popular, 3), movie))\n",
    "\n",
    "popularity.sort()\n",
    "\n",
    "result = \", \".join([item[1] for item in popularity])\n",
    "print(result)"
   ]
  },
  {
   "cell_type": "code",
   "execution_count": 11,
   "id": "1eaf20d9",
   "metadata": {},
   "outputs": [
    {
     "name": "stdout",
     "output_type": "stream",
     "text": [
      "0 -27.62\n",
      "1 -18.48\n",
      "2 -16.79\n",
      "4 -15.55\n",
      "8 -14.98\n",
      "16 -14.68\n",
      "32 -14.56\n",
      "64 -14.53\n",
      "128 -14.53\n",
      "256 -14.52\n"
     ]
    }
   ],
   "source": [
    "# Part e.\n",
    "\n",
    "probR = np.loadtxt('hw8_probR_init.txt')\n",
    "probZ = np.loadtxt('hw8_probZ_init.txt')\n",
    "probZ = probZ.reshape(-1,1)\n",
    "\n",
    "for itr in range(257):\n",
    "    liked_z = np.zeros((4, 76, 258))\n",
    "    disliked_z = np.zeros((4, 76, 258))\n",
    "\n",
    "    PRjZ_first = np.zeros((76,4))\n",
    "    PRjZ_second = np.zeros((76,4))\n",
    "\n",
    "    for i in range(4):\n",
    "        liked_z[i] = np.multiply(probR[:,i].reshape(-1,1), liked)\n",
    "        disliked_z[i] = np.multiply(1 - probR[:,i].reshape(-1,1), disliked)\n",
    "\n",
    "    liked_zz = np.prod(liked_z, axis=1, where=(liked_z > 0))\n",
    "    disliked_zz = np.prod(disliked_z, axis=1, where=(disliked_z > 0))\n",
    "\n",
    "    numerator = np.multiply(np.multiply(liked_zz, disliked_zz), probZ)\n",
    "    denominator = np.sum(numerator, axis=0).reshape(1,-1)\n",
    "    pit = np.divide(numerator, denominator)\n",
    "\n",
    "    if itr in [0,1,2,4,8,16,32,64,128,256]:\n",
    "        print(itr, np.around(np.sum(np.log(denominator))/258, decimals=2))\n",
    "\n",
    "    for i in range(4):\n",
    "        PRjZ_first[:, i] = np.sum(np.multiply(liked, pit[i].reshape(1, -1)), axis=1)\n",
    "        temp_unwatched = np.sum(np.multiply(unwatched, pit[i].reshape(1, -1)), axis=1)\n",
    "        PRjZ_second[:, i] = np.multiply(temp_unwatched.reshape(-1, 1), probR[:, i].reshape(-1, 1)).flatten()\n",
    "\n",
    "    probR_new = np.divide(PRjZ_first + PRjZ_second, np.sum(pit, axis=1).reshape(1,-1))\n",
    "    probZ_new = np.sum(pit, axis=1).reshape(-1,1)/258\n",
    "\n",
    "    probR = np.copy(probR_new)\n",
    "    probZ = np.copy(probZ_new)"
   ]
  },
  {
   "cell_type": "code",
   "execution_count": 12,
   "id": "b58803a6",
   "metadata": {},
   "outputs": [
    {
     "name": "stdout",
     "output_type": "stream",
     "text": [
      "[(0.93, 'The_Theory_of_Everything'), (0.93, 'The_Social_Network'), (0.92, 'The_Dark_Knight_Rises'), (0.9, 'The_Martian'), (0.9, 'Hustlers'), (0.87, 'Darkest_Hour'), (0.86, 'Django_Unchained'), (0.85, 'Les_Miserables'), (0.84, 'The_Great_Gatsby'), (0.84, 'Shutter_Island'), (0.84, 'Parasite'), (0.84, 'Manchester_by_the_Sea'), (0.84, 'Her'), (0.83, 'Wolf_of_Wall_Street'), (0.82, 'Ready_Player_One'), (0.82, 'Midnight_in_Paris'), (0.79, 'Ex_Machina'), (0.79, '12_Years_a_Slave'), (0.78, 'La_La_Land'), (0.78, 'Black_Swan'), (0.77, 'Gone_Girl'), (0.76, 'Room'), (0.76, 'Now_You_See_Me'), (0.75, 'Toy_Story_3'), (0.74, 'Us'), (0.72, 'Once_Upon_a_Time_in_Hollywood'), (0.72, 'Dunkirk'), (0.71, 'The_Revenant'), (0.7, 'X-Men:_First_Class'), (0.7, 'The_Girl_with_the_Dragon_Tattoo'), (0.7, 'The_Farewell'), (0.66, 'The_Help'), (0.65, 'Three_Billboards_Outside_Ebbing'), (0.65, 'The_Hunger_Games'), (0.65, 'Spiderman:_Far_From_Home'), (0.65, 'Mad_Max:_Fury_Road'), (0.64, 'Hidden_Figures'), (0.63, 'Drive'), (0.62, 'The_Hateful_Eight'), (0.62, 'Iron_Man_2'), (0.6, 'Avengers:_Infinity_War'), (0.58, 'The_Perks_of_Being_a_Wallflower'), (0.57, '21_Jump_Street'), (0.56, 'Terminator:_Dark_Fate'), (0.56, 'Rocketman'), (0.55, 'The_Shape_of_Water'), (0.55, 'Phantom_Thread'), (0.55, 'Captain_America:_The_First_Avenger'), (0.54, 'Prometheus'), (0.54, 'Man_of_Steel'), (0.5, 'Thor'), (0.49, 'I_Feel_Pretty'), (0.47, 'American_Hustle'), (0.46, 'Star_Wars:_The_Force_Awakens'), (0.45, 'Pitch_Perfect'), (0.44, 'Bridemaids'), (0.42, 'The_Last_Airbender'), (0.41, 'Fifty_Shades_of_Grey'), (0.39, 'Magic_Mike'), (0.37, 'World_War_Z'), (0.37, 'Good_Boys'), (0.26, 'Fast_&_Furious:_Hobbs_&_Shaw'), (0.23, 'Avengers:_Age_of_Ultron'), (0.0, 'Chappaquidick')]\n"
     ]
    }
   ],
   "source": [
    "# Part f.\n",
    "\n",
    "scores = np.matmul(probR, pit[:, 229].reshape(-1,1))\n",
    "\n",
    "recommendations = []\n",
    "for index, (movie, score) in enumerate(zip(movies, scores[:,0])):\n",
    "    if ratings[index][229] == -1:\n",
    "        recommendations.append((np.round(score, 2), movie))\n",
    "\n",
    "recommendations.sort(reverse = True)\n",
    "print(recommendations)"
   ]
  },
  {
   "cell_type": "code",
   "execution_count": null,
   "id": "b0db8977",
   "metadata": {},
   "outputs": [],
   "source": []
  },
  {
   "cell_type": "code",
   "execution_count": 17,
   "id": "716f7a7c",
   "metadata": {},
   "outputs": [
    {
     "name": "stdout",
     "output_type": "stream",
     "text": [
      "Sorted Movies by Popularity:\n",
      " Chappaquidick, I_Feel_Pretty, Fast_&_Furious:_Hobbs_&_Shaw, Magic_Mike, Bridemaids, The_Last_Airbender, World_War_Z, Fifty_Shades_of_Grey, Star_Wars:_The_Force_Awakens, The_Hateful_Eight, Terminator:_Dark_Fate, Drive, Pitch_Perfect, Phantom_Thread, Pokemon_Detective_Pikachu, Prometheus, Fast_Five, Good_Boys, The_Farewell, American_Hustle, The_Girl_with_the_Dragon_Tattoo, Avengers:_Age_of_Ultron, The_Shape_of_Water, The_Revenant, Thor, The_Help, Man_of_Steel, The_Perks_of_Being_a_Wallflower, Hidden_Figures, Frozen, Jurassic_World, Three_Billboards_Outside_Ebbing, Mad_Max:_Fury_Road, Captain_America:_The_First_Avenger, Dunkirk, Manchester_by_the_Sea, Ex_Machina, Rocketman, Ready_Player_One, Once_Upon_a_Time_in_Hollywood, 21_Jump_Street, Black_Swan, Iron_Man_2, Hustlers, Darkest_Hour, The_Hunger_Games, X-Men:_First_Class, Gone_Girl, Us, Avengers:_Endgame, La_La_Land, Avengers:_Infinity_War, Spiderman:_Far_From_Home, Midnight_in_Paris, Now_You_See_Me, 12_Years_a_Slave, Django_Unchained, Room, The_Avengers, Toy_Story_3, Joker, Her, Les_Miserables, The_Great_Gatsby, Wolf_of_Wall_Street, The_Martian, Parasite, The_Theory_of_Everything, Shutter_Island, Harry_Potter_and_the_Deathly_Hallows:_Part_1, The_Lion_King, Interstellar, Harry_Potter_and_the_Deathly_Hallows:_Part_2, The_Social_Network, The_Dark_Knight_Rises, Inception\n"
     ]
    }
   ],
   "source": [
    "import numpy as np\n",
    "\n",
    "# Reading the movie titles and student IDs from text files.\n",
    "movie_list = open('hw8_movies.txt').read().splitlines()\n",
    "ids_list = open('hw8_ids.txt').read().splitlines()\n",
    "# Loading the ratings from the file as strings.\n",
    "rating_data = np.loadtxt('hw8_ratings.txt', dtype='str')\n",
    "\n",
    "# Initializing a numerical array for ratings based on the string data.\n",
    "numerical_ratings = np.zeros(rating_data.shape)\n",
    "\n",
    "# Converting string ratings to numerical values (-1 for unwatched, 1 for liked, 0 for disliked).\n",
    "for row in range(numerical_ratings.shape[0]):\n",
    "    for col in range(numerical_ratings.shape[1]):\n",
    "        if rating_data[row][col] == '?':\n",
    "            numerical_ratings[row][col] = -1  # Indicates unwatched.\n",
    "        else:\n",
    "            numerical_ratings[row][col] = float(rating_data[row][col])\n",
    "\n",
    "# Transpose the matrix so that movies are rows and students are columns.\n",
    "numerical_ratings = numerical_ratings.T\n",
    "# Boolean arrays for liked, disliked, and unwatched movies.\n",
    "likes = numerical_ratings == 1\n",
    "dislikes = numerical_ratings == 0\n",
    "not_seen = numerical_ratings == -1\n",
    "\n",
    "# Part a: Computing and displaying the mean popularity score for each movie.\n",
    "mean_popularity = np.sum(likes, axis=1) / np.sum(likes + dislikes, axis=1)\n",
    "\n",
    "# Creating a sorted list of movies by their mean popularity score.\n",
    "ranked_popularity = [(np.round(score, 3), title) for score, title in zip(mean_popularity, movie_list)]\n",
    "ranked_popularity.sort()\n",
    "\n",
    "# Displaying the sorted list of movies.\n",
    "sorted_movies = \", \".join([mv[1] for mv in ranked_popularity])\n",
    "print(\"Sorted Movies by Popularity:\\n\", sorted_movies)"
   ]
  },
  {
   "cell_type": "code",
   "execution_count": 23,
   "id": "5cb3a4df",
   "metadata": {},
   "outputs": [
    {
     "name": "stdout",
     "output_type": "stream",
     "text": [
      "Iteration  Likelihood:\n",
      "0          -27.62\n",
      "1          -18.48\n",
      "2          -16.79\n",
      "4          -15.55\n",
      "8          -14.98\n",
      "16          -14.68\n",
      "32          -14.56\n",
      "64          -14.53\n",
      "128          -14.53\n",
      "256          -14.52\n"
     ]
    }
   ],
   "source": [
    "# Part e: Expectation-Maximization Algorithm.\n",
    "\n",
    "# Loading initial probabilities for ratings and movie-goer types.\n",
    "initial_prob_R = np.loadtxt('hw8_probR_init.txt')\n",
    "initial_prob_Z = np.loadtxt('hw8_probZ_init.txt')\n",
    "initial_prob_Z = initial_prob_Z.reshape(-1,1)\n",
    "\n",
    "print(\"Iteration  Likelihood:\")\n",
    "# Running the EM algorithm over 257 iterations.\n",
    "for iteration in range(257):\n",
    "    # Initializing arrays to hold probabilities for each type and movie.\n",
    "    type_like_prob = np.zeros((4, 76, 258))\n",
    "    type_dislike_prob = np.zeros((4, 76, 258))\n",
    "\n",
    "    # Arrays to hold the first and second parts of the M-step calculations.\n",
    "    part1_M_step = np.zeros((76,4))\n",
    "    part2_M_step = np.zeros((76,4))\n",
    "\n",
    "    # E-step: Calculating expected values for each movie-goer type.\n",
    "    for z_type in range(4):\n",
    "        type_like_prob[z_type] = np.multiply(initial_prob_R[:,z_type].reshape(-1,1), likes)\n",
    "        type_dislike_prob[z_type] = np.multiply(1 - initial_prob_R[:,z_type].reshape(-1,1), dislikes)\n",
    "\n",
    "    # Calculating the products where ratings exist.\n",
    "    prob_product_likes = np.prod(type_like_prob, axis=1, where=(type_like_prob > 0))\n",
    "    prob_product_dislikes = np.prod(type_dislike_prob, axis=1, where=(type_dislike_prob > 0))\n",
    "\n",
    "    # Computing the numerator and denominator for the posterior probabilities.\n",
    "    combined_numerator = np.multiply(np.multiply(prob_product_likes, prob_product_dislikes), initial_prob_Z)\n",
    "    combined_denominator = np.sum(combined_numerator, axis=0).reshape(1,-1)\n",
    "    posterior_probs = np.divide(combined_numerator, combined_denominator)\n",
    "\n",
    "    # Logging the likelihood for certain iterations.\n",
    "    if iteration in [0,1,2,4,8,16,32,64,128,256]:\n",
    "        print(iteration,\"        \",np.around(np.sum(np.log(combined_denominator))/258, decimals=2))\n",
    "\n",
    "    # M-step: Updating probabilities based on current estimates.\n",
    "    for z_type in range(4):\n",
    "        part1_M_step[:, z_type] = np.sum(np.multiply(likes, posterior_probs[z_type].reshape(1, -1)), axis=1)\n",
    "        temp_unseen = np.sum(np.multiply(not_seen, posterior_probs[z_type].reshape(1, -1)), axis=1)\n",
    "        part2_M_step[:, z_type] = np.multiply(temp_unseen.reshape(-1, 1), initial_prob_R[:, z_type].reshape(-1, 1)).flatten()\n",
    "\n",
    "    # Updating the probabilities for the movie rating given the movie-goer type.\n",
    "    updated_prob_R = np.divide(part1_M_step + part2_M_step, np.sum(posterior_probs, axis=1).reshape(1,-1))\n",
    "    updated_prob_Z = np.sum(posterior_probs, axis=1).reshape(-1,1)/258\n",
    "\n",
    "    # Copy the updated probabilities back to the original variables.\n",
    "    initial_prob_R = np.copy(updated_prob_R)\n",
    "    initial_prob_Z = np.copy(updated_prob_Z)"
   ]
  },
  {
   "cell_type": "code",
   "execution_count": 30,
   "id": "fba78f36",
   "metadata": {},
   "outputs": [
    {
     "name": "stdout",
     "output_type": "stream",
     "text": [
      "Personal Recommendations:\n",
      " [(0.93, 'The_Social_Network'), (0.9, 'Hustlers'), (0.87, 'Darkest_Hour'), (0.85, 'Les_Miserables'), (0.84, 'Shutter_Island'), (0.84, 'Parasite'), (0.84, 'Manchester_by_the_Sea'), (0.84, 'Her'), (0.79, 'La_La_Land'), (0.79, 'Ex_Machina'), (0.77, 'Now_You_See_Me'), (0.74, 'Us'), (0.71, 'The_Revenant'), (0.69, 'Frozen'), (0.66, 'The_Help'), (0.64, 'Drive'), (0.62, 'The_Hateful_Eight'), (0.58, 'The_Perks_of_Being_a_Wallflower'), (0.57, 'Rocketman'), (0.55, 'Phantom_Thread'), (0.54, 'Prometheus'), (0.53, 'Jurassic_World'), (0.5, 'Thor'), (0.5, 'I_Feel_Pretty'), (0.47, 'American_Hustle'), (0.44, 'Bridemaids'), (0.37, 'World_War_Z'), (0.37, 'Good_Boys'), (0.0, 'Chappaquidick')]\n"
     ]
    }
   ],
   "source": [
    "# Part f: Generating personal movie recommendations based on the model.\n",
    "\n",
    "# Multiplying the probabilities to get the scores for each movie.\n",
    "hugo = student_ids.index('A59025239')\n",
    "movie_scores = np.matmul(initial_prob_R, posterior_probs[:, hugo].reshape(-1,1))\n",
    "\n",
    "# Creating a list of recommended movies by their scores, excluding already watched movies.\n",
    "personal_recommendations = []\n",
    "for idx, (title, score) in enumerate(zip(movie_list, movie_scores[:,0])):\n",
    "    if numerical_ratings[idx][hugo] == -1:\n",
    "        personal_recommendations.append((np.round(score, 2), title))\n",
    "\n",
    "# Sorting the recommendations in descending order of scores.\n",
    "personal_recommendations.sort(reverse=True)\n",
    "print(\"Personal Recommendations:\\n\", personal_recommendations)"
   ]
  },
  {
   "cell_type": "code",
   "execution_count": 34,
   "id": "cc9b9fc1",
   "metadata": {},
   "outputs": [
    {
     "data": {
      "text/plain": [
       "-1.0"
      ]
     },
     "execution_count": 34,
     "metadata": {},
     "output_type": "execute_result"
    }
   ],
   "source": [
    "numerical_ratings[1][hugo]"
   ]
  },
  {
   "cell_type": "code",
   "execution_count": null,
   "id": "9624c242",
   "metadata": {},
   "outputs": [],
   "source": []
  }
 ],
 "metadata": {
  "kernelspec": {
   "display_name": "Python 3 (ipykernel)",
   "language": "python",
   "name": "python3"
  },
  "language_info": {
   "codemirror_mode": {
    "name": "ipython",
    "version": 3
   },
   "file_extension": ".py",
   "mimetype": "text/x-python",
   "name": "python",
   "nbconvert_exporter": "python",
   "pygments_lexer": "ipython3",
   "version": "3.9.13"
  }
 },
 "nbformat": 4,
 "nbformat_minor": 5
}
